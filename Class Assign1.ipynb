{
 "cells": [
  {
   "cell_type": "markdown",
   "id": "dfe64cfd-78b3-41a0-ab4a-edb7b2410a5c",
   "metadata": {},
   "source": [
    "# Create a class and function, and list out the items in the list\n",
    "# Calling a function inside a class\n",
    "SubfieldsInAI.Subfields()\n",
    "\n",
    "Sub-fields in AI are:\n",
    "Machine Learning\n",
    "Neural Networks\n",
    "Vision\n",
    "Robotics\n",
    "Speech Processing\n",
    "Natural Language Processing"
   ]
  },
  {
   "cell_type": "code",
   "execution_count": 32,
   "id": "0709c9da-6a1e-40ed-bbda-25608c3bb7fe",
   "metadata": {},
   "outputs": [],
   "source": [
    "list=[\"Machine Learning\",\"Neural Networks\",\"Vision\",\"Robotics\",\"Speech Processing\",\"Natural Language Processing\"]"
   ]
  },
  {
   "cell_type": "code",
   "execution_count": 16,
   "id": "f6672c05-9245-4b91-b1ad-0217c4c0e74a",
   "metadata": {},
   "outputs": [],
   "source": [
    "class SubfieldsInAI():\n",
    "    def Subfields():\n",
    "        print(\"Sub-fields in AI are:\")\n",
    "        for temp in list:\n",
    "            print(temp)"
   ]
  },
  {
   "cell_type": "code",
   "execution_count": 34,
   "id": "33c3a760-0a64-4b8c-b908-599a804831e0",
   "metadata": {},
   "outputs": [
    {
     "name": "stdout",
     "output_type": "stream",
     "text": [
      "Sub-fields in AI are:\n",
      "Machine Learning\n",
      "Neural Networks\n",
      "Vision\n",
      "Robotics\n",
      "Speech Processing\n",
      "Natural Language Processing\n"
     ]
    }
   ],
   "source": [
    "SubfieldsInAI.Subfields()"
   ]
  },
  {
   "cell_type": "markdown",
   "id": "a4cead74-79eb-4651-acf0-63625caceef6",
   "metadata": {},
   "source": [
    "# Create a function that checks whether the given number is Odd or Even\n",
    "\n",
    "OddEven.OddEven()\n",
    "\n",
    "Enter a number: 52452\n",
    "52452 is Even number"
   ]
  },
  {
   "cell_type": "code",
   "execution_count": 36,
   "id": "e5e81578-5537-47c0-a0a2-85a45b3b2714",
   "metadata": {},
   "outputs": [],
   "source": [
    "class OddEven():\n",
    "    def OddEven():\n",
    "        num1=int(input(\"Enter a number:\"))\n",
    "        if((num1%2)==0):\n",
    "            print(num1, \"is Even number\")\n",
    "            message=\"even\"\n",
    "        else:\n",
    "            print(num1, \"is Odd\")\n",
    "            message=\"odd\"\n",
    "        return message"
   ]
  },
  {
   "cell_type": "code",
   "execution_count": 38,
   "id": "8728d927-cbcf-4adf-aa34-c141bbcccf8b",
   "metadata": {},
   "outputs": [
    {
     "name": "stdin",
     "output_type": "stream",
     "text": [
      "Enter a number: 52452\n"
     ]
    },
    {
     "name": "stdout",
     "output_type": "stream",
     "text": [
      "52452 is Even number\n"
     ]
    },
    {
     "data": {
      "text/plain": [
       "'even'"
      ]
     },
     "execution_count": 38,
     "metadata": {},
     "output_type": "execute_result"
    }
   ],
   "source": [
    "OddEven.OddEven()"
   ]
  },
  {
   "cell_type": "markdown",
   "id": "59ed126a-9330-4fb9-b75f-5c619426f317",
   "metadata": {},
   "source": [
    "# Create a function that tells elegibility of marriage for male and female according to their age limit like 21 for male and 18 for female\n",
    "\n",
    "ElegiblityForMarriage.\n",
    "Elegib()e\r\n",
    "\n",
    "Your Gender:Male\r\n",
    "Your Age:20\r\n",
    "NOT ELIGIE\n",
    "()"
   ]
  },
  {
   "cell_type": "code",
   "execution_count": 40,
   "id": "b2c3da3b-1461-45a5-b8ee-13405a0200c3",
   "metadata": {},
   "outputs": [],
   "source": [
    "class ElegiblityForMarriage():\n",
    "    def Elegible():\n",
    "        Gender=input(\"Your Gender:\")\n",
    "        Age=int(input(\"Your Age:\"))\n",
    "        if(Age>=21):\n",
    "            print(\"Eligible for marriage\")\n",
    "            message=\"Eligible\"\n",
    "        elif(Age==18):\n",
    "            print(\"Eligible for marriage\")\n",
    "            message=\"Eligible\"\n",
    "        else:\n",
    "            print(\"Not Eligible\")\n",
    "            message=\"Not Eligible\"\n",
    "        return message"
   ]
  },
  {
   "cell_type": "code",
   "execution_count": 42,
   "id": "002b8d14-e81c-46f7-bf4d-dad7d15ee47b",
   "metadata": {},
   "outputs": [
    {
     "name": "stdin",
     "output_type": "stream",
     "text": [
      "Your Gender: Male\n",
      "Your Age: 20\n"
     ]
    },
    {
     "name": "stdout",
     "output_type": "stream",
     "text": [
      "Not Eligible\n"
     ]
    },
    {
     "data": {
      "text/plain": [
       "'Not Eligible'"
      ]
     },
     "execution_count": 42,
     "metadata": {},
     "output_type": "execute_result"
    }
   ],
   "source": [
    "ElegiblityForMarriage.Elegible()"
   ]
  },
  {
   "cell_type": "markdown",
   "id": "ac444491-a2fb-4415-bdc5-80bae33b057f",
   "metadata": {},
   "source": [
    "# calculate the percentage of your 10th mark\n",
    "\n",
    "\n",
    "Subject1= 98\r\n",
    "Subject2= 87\r\n",
    "Subject3= 95\r\n",
    "Subject4= 95\r\n",
    "Subject5= 93\r\n",
    "Total : 468\r\n",
    "Percentage : 93.60000000\n",
    "\n",
    "\n",
    "\n",
    "\n",
    "\n"
   ]
  },
  {
   "cell_type": "code",
   "execution_count": 44,
   "id": "d5b70e6e-3560-4755-966a-0b168e9e614d",
   "metadata": {},
   "outputs": [],
   "source": [
    "class mark():\n",
    "    def markpercent():\n",
    "        Subject1=int(input(\"Subject1=\"))\n",
    "        Subject2=int(input(\"Subject2=\"))\n",
    "        Subject3=int(input(\"Subject3=\"))\n",
    "        Subject4=int(input(\"Subject4=\"))\n",
    "        Subject5=int(input(\"Subject5=\"))\n",
    "        Sum=(Subject1+Subject2+Subject3+Subject4+Subject5)\n",
    "        print(\"Total:\", Sum)\n",
    "        percent=(Sum/500)*100\n",
    "        print(\"Percentage :\",percent)"
   ]
  },
  {
   "cell_type": "code",
   "execution_count": 46,
   "id": "35adbd90-bb37-4455-af83-afb0c0624eba",
   "metadata": {},
   "outputs": [
    {
     "name": "stdin",
     "output_type": "stream",
     "text": [
      "Subject1= 98\n",
      "Subject2= 87\n",
      "Subject3= 95\n",
      "Subject4= 95\n",
      "Subject5= 93\n"
     ]
    },
    {
     "name": "stdout",
     "output_type": "stream",
     "text": [
      "Total: 468\n",
      "Percentage : 93.60000000000001\n"
     ]
    }
   ],
   "source": [
    "mark.markpercent()"
   ]
  },
  {
   "cell_type": "markdown",
   "id": "2a3a173b-6712-4048-bbee-85711ccf02a1",
   "metadata": {},
   "source": [
    "#print area and perimeter of triangle using class and functions\n",
    "\n",
    "triangle.triangle()\n",
    "\n",
    "Height:32\n",
    "Breadth:34\n",
    "Area formula: (Height*Breadth)/2\n",
    "Area of Triangle: 544.0\n",
    "Height1:2\n",
    "Height2:4\n",
    "Breadth:4\n",
    "Perimeter formula: Height1+Height2+Breadth\n",
    "Perimeter of Triangle: 10"
   ]
  },
  {
   "cell_type": "code",
   "execution_count": 10,
   "id": "952e5530-2e90-41ac-ab51-be45a5be4cee",
   "metadata": {},
   "outputs": [],
   "source": [
    "class triangle():\n",
    "    def triangle():\n",
    "        Height=float(input(\"Height:\"))\n",
    "        Breadth=float(input(\"Breadth:\"))\n",
    "        Formula=(Height*Breadth)/2\n",
    "        print(\"Area of Triangle:\",Formula)\n",
    "        Height1=float(input(\"Height1:\"))\n",
    "        Height2=float(input(\"Height2:\"))\n",
    "        Breadth1=float(input(\"Breadth:\"))\n",
    "        Pf=Height1+Height2+Breadth1\n",
    "        print(\"Perimeter of Triangle:\",Pf)"
   ]
  },
  {
   "cell_type": "code",
   "execution_count": 12,
   "id": "5a9aff84-3968-4745-b62e-de7856174c06",
   "metadata": {},
   "outputs": [
    {
     "name": "stdin",
     "output_type": "stream",
     "text": [
      "Height: 32\n",
      "Breadth: 34\n"
     ]
    },
    {
     "name": "stdout",
     "output_type": "stream",
     "text": [
      "Area of Triangle: 544.0\n"
     ]
    },
    {
     "name": "stdin",
     "output_type": "stream",
     "text": [
      "Height1: 2\n",
      "Height2: 4\n",
      "Breadth: 4\n"
     ]
    },
    {
     "name": "stdout",
     "output_type": "stream",
     "text": [
      "Perimeter of Triangle: 10.0\n"
     ]
    }
   ],
   "source": [
    "triangle.triangle()"
   ]
  },
  {
   "cell_type": "code",
   "execution_count": null,
   "id": "20eeb68e-4eec-46bb-82aa-0f43115f4e7a",
   "metadata": {},
   "outputs": [],
   "source": []
  }
 ],
 "metadata": {
  "kernelspec": {
   "display_name": "Python 3 (ipykernel)",
   "language": "python",
   "name": "python3"
  },
  "language_info": {
   "codemirror_mode": {
    "name": "ipython",
    "version": 3
   },
   "file_extension": ".py",
   "mimetype": "text/x-python",
   "name": "python",
   "nbconvert_exporter": "python",
   "pygments_lexer": "ipython3",
   "version": "3.12.4"
  }
 },
 "nbformat": 4,
 "nbformat_minor": 5
}
